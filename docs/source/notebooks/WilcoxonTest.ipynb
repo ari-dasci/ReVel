{
 "cells": [
  {
   "cell_type": "code",
   "execution_count": 1,
   "metadata": {},
   "outputs": [],
   "source": [
    "import pandas as pd\n",
    "import os\n",
    "from IPython.display import display\n",
    "import seaborn as sns\n",
    "import numpy as np\n",
    "import plotly.graph_objects as go\n",
    "import plotly\n",
    "from plotly.subplots import make_subplots\n",
    "#sns.set_style(\"whitegrid\")\n",
    "#sns.set_color_codes(\"dark\")\n",
    "\n",
    "cols = plotly.colors.DEFAULT_PLOTLY_COLORS\n",
    "metrics = [\"Local_Concordance\",\n",
    "    \"Local_Fidelity\",\n",
    "    \"Prescriptivity\",\n",
    "    \"Conciseness\",\n",
    "    \"Robustness\"]"
   ]
  },
  {
   "cell_type": "code",
   "execution_count": 2,
   "metadata": {},
   "outputs": [],
   "source": [
    "if os.path.exists(\"../../../csvs/\"):\n",
    "    bigDf = []\n",
    "    for file in os.listdir(\"../../../csvs/\"):\n",
    "        # Si el tamaño del archivo f\"../csvs/{file}\" es 0, no lo lee\n",
    "        if os.stat(\"../../../csvs/\" + file).st_size != 0:\n",
    "            dataset = pd.read_csv(f\"../../../csvs/{file}\")\n",
    "            bigDf.append(dataset)\n",
    "    bigDf = pd.concat(bigDf)\n",
    "\n",
    "    bigDf[\"num_features\"] = bigDf[\"dim\"]*bigDf[\"dim\"]\n",
    "    bigDf[\"Robustness\"] = bigDf[\"robustness\"]\n",
    "    bigDf[\"Conciseness\"] = bigDf[\"conciseness\"]\n",
    "    bigDf[\"Prescriptivity\"] = bigDf[\"prescriptivity\"]\n",
    "    bigDf[\"Local_Fidelity\"] = bigDf[\"local_fidelity\"]\n",
    "    bigDf[\"Local_Concordance\"] = bigDf[\"local_concordance\"]\n",
    "    # Eliminar el anterio Experiments.csv\n",
    "    if os.path.exists(\"Experiments.csv\"):\n",
    "        os.remove(\"Experiments.csv\")\n",
    "    bigDf.to_csv(\"Experiments.csv\")"
   ]
  },
  {
   "cell_type": "code",
   "execution_count": 3,
   "metadata": {},
   "outputs": [
    {
     "data": {
      "text/html": [
       "<div>\n",
       "<style scoped>\n",
       "    .dataframe tbody tr th:only-of-type {\n",
       "        vertical-align: middle;\n",
       "    }\n",
       "\n",
       "    .dataframe tbody tr th {\n",
       "        vertical-align: top;\n",
       "    }\n",
       "\n",
       "    .dataframe thead th {\n",
       "        text-align: right;\n",
       "    }\n",
       "</style>\n",
       "<table border=\"1\" class=\"dataframe\">\n",
       "  <thead>\n",
       "    <tr style=\"text-align: right;\">\n",
       "      <th></th>\n",
       "      <th>conciseness</th>\n",
       "      <th>local_fidelity</th>\n",
       "      <th>local_concordance</th>\n",
       "      <th>prescriptivity</th>\n",
       "      <th>robustness</th>\n",
       "      <th>dataset</th>\n",
       "      <th>sigma</th>\n",
       "      <th>xai_model</th>\n",
       "      <th>dim</th>\n",
       "      <th>max_examples</th>\n",
       "      <th>index</th>\n",
       "      <th>num_features</th>\n",
       "      <th>Robustness</th>\n",
       "      <th>Conciseness</th>\n",
       "      <th>Prescriptivity</th>\n",
       "      <th>Local_Fidelity</th>\n",
       "      <th>Local_Concordance</th>\n",
       "    </tr>\n",
       "  </thead>\n",
       "  <tbody>\n",
       "    <tr>\n",
       "      <th>0</th>\n",
       "      <td>0.724487</td>\n",
       "      <td>0.978930</td>\n",
       "      <td>0.984911</td>\n",
       "      <td>0.996438</td>\n",
       "      <td>0.983105</td>\n",
       "      <td>FashionMNIST</td>\n",
       "      <td>2.0</td>\n",
       "      <td>LIME</td>\n",
       "      <td>7</td>\n",
       "      <td>500</td>\n",
       "      <td>0</td>\n",
       "      <td>49</td>\n",
       "      <td>0.983105</td>\n",
       "      <td>0.724487</td>\n",
       "      <td>0.996438</td>\n",
       "      <td>0.978930</td>\n",
       "      <td>0.984911</td>\n",
       "    </tr>\n",
       "    <tr>\n",
       "      <th>1</th>\n",
       "      <td>0.688200</td>\n",
       "      <td>0.976802</td>\n",
       "      <td>0.981163</td>\n",
       "      <td>0.922900</td>\n",
       "      <td>0.983105</td>\n",
       "      <td>FashionMNIST</td>\n",
       "      <td>2.0</td>\n",
       "      <td>LIME</td>\n",
       "      <td>7</td>\n",
       "      <td>500</td>\n",
       "      <td>0</td>\n",
       "      <td>49</td>\n",
       "      <td>0.983105</td>\n",
       "      <td>0.688200</td>\n",
       "      <td>0.922900</td>\n",
       "      <td>0.976802</td>\n",
       "      <td>0.981163</td>\n",
       "    </tr>\n",
       "    <tr>\n",
       "      <th>2</th>\n",
       "      <td>0.722753</td>\n",
       "      <td>0.975297</td>\n",
       "      <td>0.984755</td>\n",
       "      <td>0.994791</td>\n",
       "      <td>0.983105</td>\n",
       "      <td>FashionMNIST</td>\n",
       "      <td>2.0</td>\n",
       "      <td>LIME</td>\n",
       "      <td>7</td>\n",
       "      <td>500</td>\n",
       "      <td>0</td>\n",
       "      <td>49</td>\n",
       "      <td>0.983105</td>\n",
       "      <td>0.722753</td>\n",
       "      <td>0.994791</td>\n",
       "      <td>0.975297</td>\n",
       "      <td>0.984755</td>\n",
       "    </tr>\n",
       "    <tr>\n",
       "      <th>3</th>\n",
       "      <td>0.716466</td>\n",
       "      <td>0.976538</td>\n",
       "      <td>0.976459</td>\n",
       "      <td>0.991665</td>\n",
       "      <td>0.983105</td>\n",
       "      <td>FashionMNIST</td>\n",
       "      <td>2.0</td>\n",
       "      <td>LIME</td>\n",
       "      <td>7</td>\n",
       "      <td>500</td>\n",
       "      <td>0</td>\n",
       "      <td>49</td>\n",
       "      <td>0.983105</td>\n",
       "      <td>0.716466</td>\n",
       "      <td>0.991665</td>\n",
       "      <td>0.976538</td>\n",
       "      <td>0.976459</td>\n",
       "    </tr>\n",
       "    <tr>\n",
       "      <th>4</th>\n",
       "      <td>0.692680</td>\n",
       "      <td>0.977170</td>\n",
       "      <td>0.978329</td>\n",
       "      <td>0.960851</td>\n",
       "      <td>0.983105</td>\n",
       "      <td>FashionMNIST</td>\n",
       "      <td>2.0</td>\n",
       "      <td>LIME</td>\n",
       "      <td>7</td>\n",
       "      <td>500</td>\n",
       "      <td>0</td>\n",
       "      <td>49</td>\n",
       "      <td>0.983105</td>\n",
       "      <td>0.692680</td>\n",
       "      <td>0.960851</td>\n",
       "      <td>0.977170</td>\n",
       "      <td>0.978329</td>\n",
       "    </tr>\n",
       "  </tbody>\n",
       "</table>\n",
       "</div>"
      ],
      "text/plain": [
       "   conciseness  local_fidelity  local_concordance  prescriptivity  robustness  \\\n",
       "0     0.724487        0.978930           0.984911        0.996438    0.983105   \n",
       "1     0.688200        0.976802           0.981163        0.922900    0.983105   \n",
       "2     0.722753        0.975297           0.984755        0.994791    0.983105   \n",
       "3     0.716466        0.976538           0.976459        0.991665    0.983105   \n",
       "4     0.692680        0.977170           0.978329        0.960851    0.983105   \n",
       "\n",
       "        dataset  sigma xai_model  dim  max_examples  index  num_features  \\\n",
       "0  FashionMNIST    2.0      LIME    7           500      0            49   \n",
       "1  FashionMNIST    2.0      LIME    7           500      0            49   \n",
       "2  FashionMNIST    2.0      LIME    7           500      0            49   \n",
       "3  FashionMNIST    2.0      LIME    7           500      0            49   \n",
       "4  FashionMNIST    2.0      LIME    7           500      0            49   \n",
       "\n",
       "   Robustness  Conciseness  Prescriptivity  Local_Fidelity  Local_Concordance  \n",
       "0    0.983105     0.724487        0.996438        0.978930           0.984911  \n",
       "1    0.983105     0.688200        0.922900        0.976802           0.981163  \n",
       "2    0.983105     0.722753        0.994791        0.975297           0.984755  \n",
       "3    0.983105     0.716466        0.991665        0.976538           0.976459  \n",
       "4    0.983105     0.692680        0.960851        0.977170           0.978329  "
      ]
     },
     "metadata": {},
     "output_type": "display_data"
    }
   ],
   "source": [
    "# Show the first 5 rows of the dataframe.\n",
    "display(bigDf.head())"
   ]
  },
  {
   "cell_type": "code",
   "execution_count": 8,
   "metadata": {},
   "outputs": [
    {
     "data": {
      "text/plain": [
       "WilcoxonResult(statistic=1715096868.0, pvalue=3.3712410564844056e-12)"
      ]
     },
     "metadata": {},
     "output_type": "display_data"
    },
    {
     "data": {
      "text/plain": [
       "WilcoxonResult(statistic=1567716535.0, pvalue=1.098738166611036e-171)"
      ]
     },
     "metadata": {},
     "output_type": "display_data"
    },
    {
     "data": {
      "text/plain": [
       "WilcoxonResult(statistic=1740639084.0, pvalue=0.000877981720335106)"
      ]
     },
     "metadata": {},
     "output_type": "display_data"
    },
    {
     "data": {
      "text/plain": [
       "WilcoxonResult(statistic=1624087584.0, pvalue=3.2787199389072697e-88)"
      ]
     },
     "metadata": {},
     "output_type": "display_data"
    },
    {
     "data": {
      "text/plain": [
       "WilcoxonResult(statistic=1337188360.0, pvalue=0.0)"
      ]
     },
     "metadata": {},
     "output_type": "display_data"
    }
   ],
   "source": [
    "# Wilcoxon test for each metric and each dataset of LIME with sigma = 2.0 and 3.0\n",
    "\n",
    "# Import the wilcoxon function from scipy.stats\n",
    "from scipy.stats import wilcoxon\n",
    "\n",
    "dfLIME_sigma2 = bigDf[(bigDf[\"xai_model\"] == \"LIME\") & (bigDf[\"sigma\"] == 2.0) & (bigDf[\"dataset\"] != \"CIFAR10\")]\n",
    "dfLIME_sigma3 = bigDf[(bigDf[\"xai_model\"] == \"LIME\") & (bigDf[\"sigma\"] == 3.0) & (bigDf[\"dataset\"] != \"CIFAR10\")]\n",
    "wilc_concordance = wilcoxon(dfLIME_sigma2[\"Local_Concordance\"], dfLIME_sigma3[\"Local_Concordance\"])\n",
    "wilc_fidelity = wilcoxon(dfLIME_sigma2[\"Local_Fidelity\"], dfLIME_sigma3[\"Local_Fidelity\"])\n",
    "wilc_prescriptivity = wilcoxon(dfLIME_sigma2[\"Prescriptivity\"], dfLIME_sigma3[\"Prescriptivity\"])\n",
    "wilc_conciseness = wilcoxon(dfLIME_sigma2[\"Conciseness\"], dfLIME_sigma3[\"Conciseness\"])\n",
    "wilc_robustness = wilcoxon(dfLIME_sigma2[\"Robustness\"], dfLIME_sigma3[\"Robustness\"])\n",
    "\n",
    "\n",
    "\n",
    "display(wilc_concordance)\n",
    "display(wilc_fidelity)\n",
    "display(wilc_prescriptivity)\n",
    "display(wilc_conciseness)\n",
    "display(wilc_robustness)"
   ]
  }
 ],
 "metadata": {
  "kernelspec": {
   "display_name": "py-38",
   "language": "python",
   "name": "python3"
  },
  "language_info": {
   "codemirror_mode": {
    "name": "ipython",
    "version": 3
   },
   "file_extension": ".py",
   "mimetype": "text/x-python",
   "name": "python",
   "nbconvert_exporter": "python",
   "pygments_lexer": "ipython3",
   "version": "3.8.12"
  },
  "orig_nbformat": 4
 },
 "nbformat": 4,
 "nbformat_minor": 2
}
